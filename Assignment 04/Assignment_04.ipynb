{
 "cells": [
  {
   "cell_type": "markdown",
   "id": "79f41bac",
   "metadata": {},
   "source": [
    "# Question 01"
   ]
  },
  {
   "cell_type": "code",
   "execution_count": 1,
   "id": "ef82d81b",
   "metadata": {},
   "outputs": [
    {
     "name": "stdout",
     "output_type": "stream",
     "text": [
      "Select operation.\n",
      "1.Add\n",
      "2.Subtract\n",
      "3.Multiply\n",
      "4.Divide\n",
      "Enter choice(1/2/3/4): 1\n",
      "Enter first number: 44\n",
      "Enter second number: 6\n",
      "44.0 + 6.0 = 50.0\n",
      "Let's do next calculation? (yes/no): no\n"
     ]
    }
   ],
   "source": [
    "def add(x, y):\n",
    "    return x + y\n",
    "\n",
    "def subtract(x, y):\n",
    "    return x - y\n",
    "\n",
    "def multiply(x, y):\n",
    "    return x * y\n",
    "\n",
    "def divide(x, y):\n",
    "    return x / y\n",
    "\n",
    "\n",
    "print(\"Select operation.\")\n",
    "print(\"1.Add\")\n",
    "print(\"2.Subtract\")\n",
    "print(\"3.Multiply\")\n",
    "print(\"4.Divide\")\n",
    "\n",
    "while True:\n",
    "    choice = input(\"Enter choice(1/2/3/4): \")\n",
    "\n",
    "    if choice in ('1', '2', '3', '4'):\n",
    "        num1 = float(input(\"Enter first number: \"))\n",
    "        num2 = float(input(\"Enter second number: \"))\n",
    "\n",
    "        if choice == '1':\n",
    "            print(num1, \"+\", num2, \"=\", add(num1, num2))\n",
    "\n",
    "        elif choice == '2':\n",
    "            print(num1, \"-\", num2, \"=\", subtract(num1, num2))\n",
    "\n",
    "        elif choice == '3':\n",
    "            print(num1, \"*\", num2, \"=\", multiply(num1, num2))\n",
    "\n",
    "        elif choice == '4':\n",
    "            print(num1, \"/\", num2, \"=\", divide(num1, num2))\n",
    "        \n",
    "        # check if user wants another calculation\n",
    "        # break the while loop if answer is no\n",
    "        next_calculation = input(\"Let's do next calculation? (yes/no): \")\n",
    "        if next_calculation == \"no\":\n",
    "          break\n",
    "    \n",
    "    else:\n",
    "        print(\"Invalid Input\")"
   ]
  },
  {
   "cell_type": "markdown",
   "id": "00906246",
   "metadata": {},
   "source": [
    "# Question 02"
   ]
  },
  {
   "cell_type": "code",
   "execution_count": 11,
   "id": "69c68c58",
   "metadata": {},
   "outputs": [
    {
     "name": "stdout",
     "output_type": "stream",
     "text": [
      "List have numeric data\n"
     ]
    }
   ],
   "source": [
    "simpleList = [\"huzaifa\",\"khan\",22,False,\"waleed\"]\n",
    "\n",
    "number = 1\n",
    "hasNumericData = False;\n",
    "for value in simpleList:\n",
    "    if type(value) == type(number):\n",
    "        hasNumericData = True\n",
    "        \n",
    "if(hasNumericData):\n",
    "    print(\"List have numeric data\")\n",
    "else:\n",
    "    print(\"List do not have numeric data\")\n",
    "    \n"
   ]
  },
  {
   "cell_type": "markdown",
   "id": "c75460a1",
   "metadata": {},
   "source": [
    "# Question 03"
   ]
  },
  {
   "cell_type": "code",
   "execution_count": 13,
   "id": "790cdae8",
   "metadata": {},
   "outputs": [
    {
     "name": "stdout",
     "output_type": "stream",
     "text": [
      "{'firstName': 'Muhammad', 'middleName': 'Huzaifa', 'lastName': 'Khan'}\n"
     ]
    }
   ],
   "source": [
    "myDetails = {\n",
    "    \"firstName\":\"Muhammad\",\n",
    "    \"middleName\":\"Huzaifa\"\n",
    "}\n",
    "myDetails[\"lastName\"] = \"Khan\"\n",
    "print(myDetails)"
   ]
  },
  {
   "cell_type": "markdown",
   "id": "0959eff1",
   "metadata": {},
   "source": [
    "# Question 04"
   ]
  },
  {
   "cell_type": "code",
   "execution_count": 17,
   "id": "ce6109dc",
   "metadata": {},
   "outputs": [
    {
     "name": "stdout",
     "output_type": "stream",
     "text": [
      "132\n"
     ]
    }
   ],
   "source": [
    "listOfNum = {\n",
    "    \"1\":33,\n",
    "    \"2\":44,\n",
    "    \"3\":55,\n",
    "}\n",
    "total = listOfNum.values()\n",
    "result = 0\n",
    "for num in total:\n",
    "    result = result + num;\n",
    "print(result)"
   ]
  },
  {
   "cell_type": "markdown",
   "id": "e73578b7",
   "metadata": {},
   "source": [
    "# Quuestion 05"
   ]
  },
  {
   "cell_type": "code",
   "execution_count": 28,
   "id": "ba029ba6",
   "metadata": {},
   "outputs": [
    {
     "name": "stdout",
     "output_type": "stream",
     "text": [
      "Duplicate values are:  2 3 4 5 "
     ]
    }
   ],
   "source": [
    "l=[1,2,3,4,5,2,3,4,7,9,5]\n",
    "l1=[]\n",
    "l2=[]\n",
    "for i in l:\n",
    "    if i not in l1:\n",
    "        l1.append(i)\n",
    "    else:\n",
    "        l2.append(i)\n",
    "if l2 != []:\n",
    "    print('Duplicate values are: ', end= ' ')\n",
    "    for i in l2:\n",
    "        print(i,end=' ')\n",
    "else:\n",
    "    print('There is no duplicate values in list')"
   ]
  },
  {
   "cell_type": "markdown",
   "id": "e99a1fc5",
   "metadata": {},
   "source": [
    "# Question 06"
   ]
  },
  {
   "cell_type": "code",
   "execution_count": 29,
   "id": "96d3d4e7",
   "metadata": {},
   "outputs": [
    {
     "name": "stdout",
     "output_type": "stream",
     "text": [
      "Key is present in the dictionary\n",
      "Key is not present in the dictionary\n"
     ]
    }
   ],
   "source": [
    "d = {1: 10, 2: 20, 3: 30, 4: 40, 5: 50, 6: 60}\n",
    "def checkKeyExists(x):\n",
    "  if x in d:\n",
    "      print('Key is present in the dictionary')\n",
    "  else:\n",
    "      print('Key is not present in the dictionary')\n",
    "checkKeyExists(5)\n",
    "checkKeyExists(9)\n"
   ]
  },
  {
   "cell_type": "code",
   "execution_count": null,
   "id": "9d32d346",
   "metadata": {},
   "outputs": [],
   "source": []
  },
  {
   "cell_type": "code",
   "execution_count": null,
   "id": "39a0f291",
   "metadata": {},
   "outputs": [],
   "source": []
  }
 ],
 "metadata": {
  "kernelspec": {
   "display_name": "Python 3",
   "language": "python",
   "name": "python3"
  },
  "language_info": {
   "codemirror_mode": {
    "name": "ipython",
    "version": 3
   },
   "file_extension": ".py",
   "mimetype": "text/x-python",
   "name": "python",
   "nbconvert_exporter": "python",
   "pygments_lexer": "ipython3",
   "version": "3.8.8"
  }
 },
 "nbformat": 4,
 "nbformat_minor": 5
}
