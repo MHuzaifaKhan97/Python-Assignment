{
 "cells": [
  {
   "cell_type": "code",
   "execution_count": 11,
   "id": "344bd097",
   "metadata": {},
   "outputs": [
    {
     "name": "stdout",
     "output_type": "stream",
     "text": [
      "Total Marks:  21\n",
      "Percentage of Marks:  7.000000000000001\n",
      "Sorry You're Fail\n"
     ]
    }
   ],
   "source": [
    "islamiat = 5\n",
    "english = 7\n",
    "maths = 9\n",
    "totalMarks = islamiat + english + maths\n",
    "print(\"Total Marks: \",totalMarks)\n",
    "percentage = totalMarks/300*100\n",
    "print(\"Percentage of Marks: \",percentage)\n",
    "\n",
    "if percentage >= 80:\n",
    "    print(\"Grade : A+\")\n",
    "elif percentage >= 70:\n",
    "    print(\"Grade : A\")\n",
    "elif percentage >= 60:\n",
    "    print(\"Grade : B\")\n",
    "elif percentage >= 50:\n",
    "    print(\"Grade : C\")\n",
    "elif percentage >= 40:\n",
    "    print(\"Grade : D\")\n",
    "elif percentage < 40:\n",
    "    print(\"Sorry You\\'re Fail\")\n",
    "\n",
    "\n"
   ]
  },
  {
   "cell_type": "code",
   "execution_count": null,
   "id": "b8f01d48",
   "metadata": {},
   "outputs": [],
   "source": []
  }
 ],
 "metadata": {
  "kernelspec": {
   "display_name": "Python 3",
   "language": "python",
   "name": "python3"
  },
  "language_info": {
   "codemirror_mode": {
    "name": "ipython",
    "version": 3
   },
   "file_extension": ".py",
   "mimetype": "text/x-python",
   "name": "python",
   "nbconvert_exporter": "python",
   "pygments_lexer": "ipython3",
   "version": "3.8.8"
  }
 },
 "nbformat": 4,
 "nbformat_minor": 5
}
