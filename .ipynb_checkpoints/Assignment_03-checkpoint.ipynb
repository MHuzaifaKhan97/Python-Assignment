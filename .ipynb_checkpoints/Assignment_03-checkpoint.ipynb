{
 "cells": [
  {
   "cell_type": "markdown",
   "id": "7760e70c",
   "metadata": {},
   "source": [
    "# Python Course : Assignment No 03"
   ]
  },
  {
   "cell_type": "markdown",
   "id": "61c6dbc6",
   "metadata": {},
   "source": [
    "## Question # 01"
   ]
  },
  {
   "cell_type": "code",
   "execution_count": 36,
   "id": "ebe10ba5",
   "metadata": {},
   "outputs": [
    {
     "name": "stdout",
     "output_type": "stream",
     "text": [
      "Twinkle, twinkle, little star,\n",
      "\tHow I wonder what you are!\n",
      "\t\tUp above the world so high,\n",
      "\t\tLike a diamond in the sky.\n",
      "Twinkle, twinkle, little star,\n",
      "\tHow I wonder what you are!\n"
     ]
    }
   ],
   "source": [
    "print('Twinkle, twinkle, little star,')\n",
    "print('\\tHow I wonder what you are!')\n",
    "print('\\t\\tUp above the world so high,')\n",
    "print('\\t\\tLike a diamond in the sky.')\n",
    "print('Twinkle, twinkle, little star,')\n",
    "print('\\tHow I wonder what you are!')"
   ]
  },
  {
   "cell_type": "markdown",
   "id": "9f408677",
   "metadata": {},
   "source": [
    "## Question # 02"
   ]
  },
  {
   "cell_type": "code",
   "execution_count": 4,
   "id": "147a5dc3",
   "metadata": {},
   "outputs": [
    {
     "name": "stdout",
     "output_type": "stream",
     "text": [
      "3.8.8 (default, Apr 13 2021, 15:08:03) [MSC v.1916 64 bit (AMD64)]\n"
     ]
    }
   ],
   "source": [
    "import sys\n",
    "print(sys.version)"
   ]
  },
  {
   "cell_type": "markdown",
   "id": "6beda76f",
   "metadata": {},
   "source": [
    "## Question # 03"
   ]
  },
  {
   "cell_type": "code",
   "execution_count": 9,
   "id": "dd2344c4",
   "metadata": {},
   "outputs": [
    {
     "name": "stdout",
     "output_type": "stream",
     "text": [
      "Today's Date: 2021-10-23 18:46:53.626123\n"
     ]
    }
   ],
   "source": [
    "from datetime import datetime\n",
    "\n",
    "today = datetime.now()\n",
    "print(\"Today's Date:\", today)"
   ]
  },
  {
   "cell_type": "markdown",
   "id": "341bf894",
   "metadata": {},
   "source": [
    "## Question # 04"
   ]
  },
  {
   "cell_type": "code",
   "execution_count": 13,
   "id": "aa1d0f3a",
   "metadata": {},
   "outputs": [
    {
     "name": "stdout",
     "output_type": "stream",
     "text": [
      "Please enter radius: 4\n",
      "50.272\n"
     ]
    }
   ],
   "source": [
    "radius = input('Please enter radius: ')\n",
    "radius = float(radius)\n",
    "area = 3.142 * (radius * radius)\n",
    "print(area)"
   ]
  },
  {
   "cell_type": "markdown",
   "id": "d7518e53",
   "metadata": {},
   "source": [
    "## Question # 05"
   ]
  },
  {
   "cell_type": "code",
   "execution_count": 38,
   "id": "37b0b378",
   "metadata": {},
   "outputs": [
    {
     "name": "stdout",
     "output_type": "stream",
     "text": [
      "Input your First Name : Huzaifa\n",
      "Input your Last Name : Khan\n",
      "Hello Khan Huzaifa\n"
     ]
    }
   ],
   "source": [
    "fName = input(\"Input your First Name : \")\n",
    "lName = input(\"Input your Last Name : \")\n",
    "print (\"Hello \" + lName + \" \" + fName)"
   ]
  },
  {
   "cell_type": "markdown",
   "id": "f0f6802b",
   "metadata": {},
   "source": [
    "## Question # 06"
   ]
  },
  {
   "cell_type": "code",
   "execution_count": 15,
   "id": "0d1da934",
   "metadata": {},
   "outputs": [
    {
     "name": "stdout",
     "output_type": "stream",
     "text": [
      "Enter Number 1: 55\n",
      "Enter Number 2: 44.4\n",
      "Addition of two number is  99.4\n"
     ]
    }
   ],
   "source": [
    "a = float(input('Enter Number 1: '))\n",
    "b = float(input('Enter Number 2: '))\n",
    "result = a+b;\n",
    "print('Addition of two number is ',result)"
   ]
  },
  {
   "cell_type": "markdown",
   "id": "3cbb8ea8",
   "metadata": {},
   "source": [
    "## Question # 07"
   ]
  },
  {
   "cell_type": "code",
   "execution_count": 18,
   "id": "31c12325",
   "metadata": {},
   "outputs": [
    {
     "name": "stdout",
     "output_type": "stream",
     "text": [
      "Enter Marks of Islamiat :78\n",
      "Enter Marks of English :67\n",
      "Enter Marks of Maths :90\n",
      "Enter Marks of Physics :90\n",
      "Enter Marks of Chemistry :90\n",
      "Marks of Islamiat : \t 78.0\n",
      "Marks of English : \t 67.0\n",
      "Marks of Math : \t 90.0\n",
      "Marks of Physics : \t 90.0\n",
      "Marks of Chemistry : \t 90.0\n",
      "Total Marks : \t 415.0\n",
      "Percentage : \t 83.0 %\n"
     ]
    }
   ],
   "source": [
    "islamiat = float(input('Enter Marks of Islamiat :'))\n",
    "english = float(input('Enter Marks of English :'))\n",
    "math = float(input('Enter Marks of Maths :'))\n",
    "physics = float(input('Enter Marks of Physics :'))\n",
    "chemistry = float(input('Enter Marks of Chemistry :'))\n",
    "\n",
    "total = islamiat + english + math + physics + chemistry\n",
    "percentage = (total * 100)/500\n",
    "print('Marks of Islamiat : \\t',islamiat)\n",
    "print('Marks of English : \\t',english)\n",
    "print('Marks of Math : \\t',math)\n",
    "print('Marks of Physics : \\t',physics)\n",
    "print('Marks of Chemistry : \\t',chemistry)\n",
    "\n",
    "print('Total Marks : \\t',total)\n",
    "print('Percentage : \\t',percentage,'%')"
   ]
  },
  {
   "cell_type": "markdown",
   "id": "8f569616",
   "metadata": {},
   "source": [
    "## Question # 08"
   ]
  },
  {
   "cell_type": "code",
   "execution_count": 23,
   "id": "3e9e5f01",
   "metadata": {},
   "outputs": [
    {
     "name": "stdout",
     "output_type": "stream",
     "text": [
      "Enter number to check :33\n",
      "33 is Odd Number\n"
     ]
    }
   ],
   "source": [
    "number = int(input('Enter number to check :'))\n",
    "if number % 2 == 0:\n",
    "    print(number,'is Even Number')\n",
    "else:\n",
    "    print(number,'is Odd Number')"
   ]
  },
  {
   "cell_type": "markdown",
   "id": "a0f9108e",
   "metadata": {},
   "source": [
    "## Question # 09"
   ]
  },
  {
   "cell_type": "code",
   "execution_count": 25,
   "id": "5d6f86d9",
   "metadata": {},
   "outputs": [
    {
     "name": "stdout",
     "output_type": "stream",
     "text": [
      "Length of list is:  6\n"
     ]
    }
   ],
   "source": [
    "list = [1,'Muhammad','Huzaifa','Khan', 33.4,True]\n",
    "print('Length of list is: ',len(list))"
   ]
  },
  {
   "cell_type": "markdown",
   "id": "0eecbd0f",
   "metadata": {},
   "source": [
    "## Question # 10"
   ]
  },
  {
   "cell_type": "code",
   "execution_count": 33,
   "id": "67d7f15a",
   "metadata": {},
   "outputs": [
    {
     "name": "stdout",
     "output_type": "stream",
     "text": [
      "Sum of Numbers in list is :  533\n"
     ]
    }
   ],
   "source": [
    "num_list = [43,2,34,45,98,55,66,87,33,14,56]\n",
    "sumOfList = 0\n",
    "for num in num_list:\n",
    "    sumOfList += num\n",
    "        \n",
    "print('Sum of Numbers in list is : ',sumOfList)"
   ]
  },
  {
   "cell_type": "markdown",
   "id": "45b873d4",
   "metadata": {},
   "source": [
    "## Question # 11"
   ]
  },
  {
   "cell_type": "code",
   "execution_count": 34,
   "id": "de3d564c",
   "metadata": {},
   "outputs": [
    {
     "name": "stdout",
     "output_type": "stream",
     "text": [
      "Largest Number is :  98\n"
     ]
    }
   ],
   "source": [
    "num_list = [43,2,34,45,98,55,66,87,33,14,56]\n",
    "largest = 0\n",
    "for num in num_list:\n",
    "    if num > largest:\n",
    "        largest = num\n",
    "        \n",
    "print('Largest Number is : ',largest)"
   ]
  },
  {
   "cell_type": "markdown",
   "id": "470b4486",
   "metadata": {},
   "source": [
    "## Question # 12"
   ]
  },
  {
   "cell_type": "code",
   "execution_count": 35,
   "id": "d484ce40",
   "metadata": {},
   "outputs": [
    {
     "name": "stdout",
     "output_type": "stream",
     "text": [
      "1\n",
      "1\n",
      "2\n",
      "3\n"
     ]
    }
   ],
   "source": [
    "a = [1, 1, 2, 3, 5, 8, 13, 21, 34, 55, 89]\n",
    "for num in a:\n",
    "    if num < 5:\n",
    "        print(num)"
   ]
  },
  {
   "cell_type": "code",
   "execution_count": null,
   "id": "9e6ee1a4",
   "metadata": {},
   "outputs": [],
   "source": []
  },
  {
   "cell_type": "code",
   "execution_count": null,
   "id": "df3db206",
   "metadata": {},
   "outputs": [],
   "source": []
  },
  {
   "cell_type": "code",
   "execution_count": null,
   "id": "1e6290e2",
   "metadata": {},
   "outputs": [],
   "source": []
  },
  {
   "cell_type": "code",
   "execution_count": null,
   "id": "e4244fba",
   "metadata": {},
   "outputs": [],
   "source": []
  },
  {
   "cell_type": "code",
   "execution_count": null,
   "id": "ac1fc7c9",
   "metadata": {},
   "outputs": [],
   "source": []
  },
  {
   "cell_type": "code",
   "execution_count": null,
   "id": "daadc5f6",
   "metadata": {},
   "outputs": [],
   "source": []
  },
  {
   "cell_type": "code",
   "execution_count": null,
   "id": "13c7b677",
   "metadata": {},
   "outputs": [],
   "source": []
  },
  {
   "cell_type": "code",
   "execution_count": null,
   "id": "072dfe59",
   "metadata": {},
   "outputs": [],
   "source": []
  },
  {
   "cell_type": "code",
   "execution_count": null,
   "id": "3bc4ebad",
   "metadata": {},
   "outputs": [],
   "source": []
  },
  {
   "cell_type": "code",
   "execution_count": null,
   "id": "f294524f",
   "metadata": {},
   "outputs": [],
   "source": []
  },
  {
   "cell_type": "code",
   "execution_count": null,
   "id": "70ae93f4",
   "metadata": {},
   "outputs": [],
   "source": []
  },
  {
   "cell_type": "code",
   "execution_count": null,
   "id": "f6a97147",
   "metadata": {},
   "outputs": [],
   "source": []
  },
  {
   "cell_type": "code",
   "execution_count": null,
   "id": "3ada6256",
   "metadata": {},
   "outputs": [],
   "source": []
  },
  {
   "cell_type": "code",
   "execution_count": null,
   "id": "03e67e62",
   "metadata": {},
   "outputs": [],
   "source": []
  },
  {
   "cell_type": "code",
   "execution_count": null,
   "id": "8fd5d288",
   "metadata": {},
   "outputs": [],
   "source": []
  },
  {
   "cell_type": "code",
   "execution_count": null,
   "id": "a8c1bcda",
   "metadata": {},
   "outputs": [],
   "source": []
  }
 ],
 "metadata": {
  "kernelspec": {
   "display_name": "Python 3",
   "language": "python",
   "name": "python3"
  },
  "language_info": {
   "codemirror_mode": {
    "name": "ipython",
    "version": 3
   },
   "file_extension": ".py",
   "mimetype": "text/x-python",
   "name": "python",
   "nbconvert_exporter": "python",
   "pygments_lexer": "ipython3",
   "version": "3.8.8"
  }
 },
 "nbformat": 4,
 "nbformat_minor": 5
}
