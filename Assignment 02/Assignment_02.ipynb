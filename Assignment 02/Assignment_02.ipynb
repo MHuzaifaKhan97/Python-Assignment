{
 "cells": [
  {
   "cell_type": "code",
   "execution_count": 12,
   "id": "5aa7450a",
   "metadata": {},
   "outputs": [
    {
     "name": "stdout",
     "output_type": "stream",
     "text": [
      "Total Marks:  258\n",
      "Percentage of Marks:  86.0\n",
      "Grade : A+\n"
     ]
    }
   ],
   "source": [
    "islamiat = 90\n",
    "english = 75\n",
    "maths = 93\n",
    "totalMarks = islamiat + english + maths\n",
    "print(\"Total Marks: \",totalMarks)\n",
    "percentage = totalMarks/300*100\n",
    "print(\"Percentage of Marks: \",percentage)\n",
    "\n",
    "if percentage >= 80:\n",
    "    print(\"Grade : A+\")\n",
    "elif percentage >= 70:\n",
    "    print(\"Grade : A\")\n",
    "elif percentage >= 60:\n",
    "    print(\"Grade : B\")\n",
    "elif percentage >= 50:\n",
    "    print(\"Grade : C\")\n",
    "elif percentage >= 40:\n",
    "    print(\"Grade : D\")\n",
    "elif percentage < 40:\n",
    "    print(\"Sorry Yo\\'re Fail\")\n",
    "\n",
    "\n"
   ]
  },
  {
   "cell_type": "code",
   "execution_count": null,
   "id": "ea5afdd7",
   "metadata": {},
   "outputs": [],
   "source": []
  }
 ],
 "metadata": {
  "kernelspec": {
   "display_name": "Python 3",
   "language": "python",
   "name": "python3"
  },
  "language_info": {
   "codemirror_mode": {
    "name": "ipython",
    "version": 3
   },
   "file_extension": ".py",
   "mimetype": "text/x-python",
   "name": "python",
   "nbconvert_exporter": "python",
   "pygments_lexer": "ipython3",
   "version": "3.8.8"
  }
 },
 "nbformat": 4,
 "nbformat_minor": 5
}
